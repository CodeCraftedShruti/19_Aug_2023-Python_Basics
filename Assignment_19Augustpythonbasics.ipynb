{
 "cells": [
  {
   "cell_type": "markdown",
   "id": "5b81539f-013b-420e-89bc-eef44dc9aa19",
   "metadata": {},
   "source": [
    "1. Declare two variables, `x` and `y`, and assign them integer values. Swap the values of these variables without using any temporary variable."
   ]
  },
  {
   "cell_type": "code",
   "execution_count": 23,
   "id": "c876634c-7dc0-4946-8d76-b59c0f6df5a3",
   "metadata": {},
   "outputs": [
    {
     "name": "stdout",
     "output_type": "stream",
     "text": [
      "after the swap the value of x = 76\n",
      "after the swap the value of y = 24\n"
     ]
    }
   ],
   "source": [
    "#Declared x,y and assigned integer values to them\n",
    "x = 24 \n",
    "y = 76\n",
    "\n",
    "# for swapping without any temporary variable following method is used \n",
    "x = y - x\n",
    "y = y - x\n",
    "x = x + y\n",
    "\n",
    "# after doing swapping operation folloing is the output \n",
    "\n",
    "print(\"after the swap the value of x =\",x)\n",
    "print(\"after the swap the value of y =\",y)\n",
    "\n",
    "\n",
    "    \n",
    "    "
   ]
  },
  {
   "cell_type": "markdown",
   "id": "09449a2a-69d9-48e4-b128-3ba47e84885c",
   "metadata": {},
   "source": [
    "2. Create a program that calculates the area of a rectangle. Take the length and width as inputs from the user and store them in variables. Calculate and display the area."
   ]
  },
  {
   "cell_type": "code",
   "execution_count": 27,
   "id": "94fd994b-cb79-4729-95f2-362dea3875de",
   "metadata": {},
   "outputs": [
    {
     "name": "stdin",
     "output_type": "stream",
     "text": [
      "enter the lenght of the rectangle  10\n",
      "enter the breadth of the rectangle 9\n"
     ]
    },
    {
     "name": "stdout",
     "output_type": "stream",
     "text": [
      "The area of rectangle is 90\n"
     ]
    }
   ],
   "source": [
    "# for calculating the area of triangle first will take the input from the user \n",
    "l = int(input(\"enter the lenght of the rectangle \"))\n",
    "b = int(input(\"enter the breadth of the rectangle\"))\n",
    "\n",
    "# Below I have created the formula for it put the values in it \n",
    "A = l*b\n",
    "\n",
    "# after the operation we get following output\n",
    "\n",
    "print(\"The area of rectangle is\" , A)\n"
   ]
  },
  {
   "cell_type": "markdown",
   "id": "2531b6b7-e864-4cf8-8fd7-8e414a97ac18",
   "metadata": {},
   "source": [
    "3. Write a Python program that converts temperatures from Celsius to Fahrenheit. Take the temperature in Celsius as input, store it in a variable, convert it to Fahrenheit, and display the result.\n"
   ]
  },
  {
   "cell_type": "code",
   "execution_count": 35,
   "id": "39521ebc-36d2-4773-b56d-732b43b72b2e",
   "metadata": {},
   "outputs": [
    {
     "name": "stdin",
     "output_type": "stream",
     "text": [
      "Enter the temprature in celsius 52\n"
     ]
    },
    {
     "name": "stdout",
     "output_type": "stream",
     "text": [
      " 52.0 degree celsius is equal to 125.60 degree fahrenheit\n"
     ]
    }
   ],
   "source": [
    "# for converting temprature from celsius to fahrenheit will take celsius as a input \n",
    "\n",
    "c = float(input(\"Enter the temprature in celsius\"))\n",
    "\n",
    "# following is the formula for coversion of celsius to fahrenheit\n",
    "f = (c * 9/5) + 32\n",
    "\n",
    "print(f\" {c} degree celsius is equal to {f:.2F} degree fahrenheit\")\n",
    "\n"
   ]
  },
  {
   "cell_type": "raw",
   "id": "7393a665-ff24-401d-beb7-4f3ad444a49f",
   "metadata": {},
   "source": [
    "String Based Questions"
   ]
  },
  {
   "cell_type": "markdown",
   "id": "7a9d945a-6f23-47b8-bcd2-2460ef8ebac5",
   "metadata": {},
   "source": [
    "1.Write a Python program that takes a string as input and prints the length of the string."
   ]
  },
  {
   "cell_type": "code",
   "execution_count": 21,
   "id": "48f03133-74d3-46cb-bfdf-c3092173a600",
   "metadata": {},
   "outputs": [
    {
     "name": "stdin",
     "output_type": "stream",
     "text": [
      "enter the string:  pwskills\n"
     ]
    },
    {
     "name": "stdout",
     "output_type": "stream",
     "text": [
      "the length of pwskills is 8\n"
     ]
    }
   ],
   "source": [
    "# input() function by default takes string as a datatype \n",
    "\n",
    "s = input(\"enter the string: \")\n",
    "\n",
    "# When I used the len function with string 's' then it gave error\n",
    "# but when you write int(len(s)) then it counted the lenght of a string \n",
    "\n",
    "print(f\"the length of {s} is {int(len(s))}\") "
   ]
  },
  {
   "cell_type": "markdown",
   "id": "ed73f579-2029-4687-a5ca-122439b5c27c",
   "metadata": {},
   "source": [
    "2. Create a program that takes a sentence from the user and counts the number of vowels (a, e, i, o, u) in the string."
   ]
  },
  {
   "cell_type": "code",
   "execution_count": 87,
   "id": "985f5689-2fb5-4bc4-9af8-728a0b095fd6",
   "metadata": {},
   "outputs": [
    {
     "name": "stdin",
     "output_type": "stream",
     "text": [
      "Enter the sentence : welcome to data science class\n"
     ]
    },
    {
     "name": "stdout",
     "output_type": "stream",
     "text": [
      "the number of vowels in the sentence are  10\n"
     ]
    }
   ],
   "source": [
    "# input through user\n",
    "s1 = input(\"Enter the sentence :\")\n",
    "\n",
    "#sentence to lowercase for case sensitivity\n",
    "lower_case = s1.lower()\n",
    "\n",
    "#for counting the vowel\n",
    "vowel_count = 0\n",
    "\n",
    "# for counting the vowels in the sentence\n",
    "for char in lower_case :\n",
    "        if char in 'aeiou' :\n",
    "            vowel_count += 1\n",
    "            \n",
    "# printing the total number of vowels\n",
    "print(\"the number of vowels in the sentence are \" ,vowel_count)\n"
   ]
  },
  {
   "cell_type": "markdown",
   "id": "f4b6968c-e651-4e2d-ad79-7834f14b4fb7",
   "metadata": {},
   "source": [
    "3. Given a string, reverse the order of characters using string slicing and print the reversed string."
   ]
  },
  {
   "cell_type": "code",
   "execution_count": 64,
   "id": "e320fd42-6a09-4833-9a86-380b6475ecef",
   "metadata": {},
   "outputs": [
    {
     "name": "stdout",
     "output_type": "stream",
     "text": [
      "the string insterstellar is reversed to  ralletsretsni\n"
     ]
    }
   ],
   "source": [
    "# string is defind by assigning to s2 \n",
    "s2 = \"insterstellar\"\n",
    "\n",
    "# by using the slicing method the string reversed\n",
    "# I gave only starting point, end point is empty because it will go till the end and jump of (-1) to go reverse  \n",
    "\n",
    "print(f\"the string {s2} is reversed to \",s2[-1::-1])"
   ]
  },
  {
   "cell_type": "markdown",
   "id": "000d431a-cfd2-40be-acd8-255d58a66a9f",
   "metadata": {},
   "source": [
    "4. Write a program that takes a string as input and checks if it is a palindrome (reads the same forwards and backwards).\n"
   ]
  },
  {
   "cell_type": "code",
   "execution_count": 71,
   "id": "ddb85594-fc29-4738-a31c-2a3459d15188",
   "metadata": {},
   "outputs": [
    {
     "name": "stdin",
     "output_type": "stream",
     "text": [
      "Enter the string :  radar\n"
     ]
    },
    {
     "name": "stdout",
     "output_type": "stream",
     "text": [
      "the string is palindrom\n"
     ]
    }
   ],
   "source": [
    "# took a input from the user\n",
    "s3 = input(\"Enter the string : \")\n",
    "\n",
    "# used the if else condition to check for palindrome and used the slicing operation.\n",
    "if s3 == s3[::-1]:\n",
    "    print(\"the string is palindrom\")\n",
    "    \n",
    "else:\n",
    "    print(\"the entered string is not palindrome\")\n",
    " "
   ]
  },
  {
   "cell_type": "markdown",
   "id": "3f876ac2-b643-4f82-9198-2e2b65167e3b",
   "metadata": {},
   "source": [
    "5. Create a program that takes a string as input and removes all the spaces from it. Print the modified string without spaces."
   ]
  },
  {
   "cell_type": "code",
   "execution_count": 82,
   "id": "d2d662de-b90d-48be-84ab-2ad382d469d7",
   "metadata": {},
   "outputs": [
    {
     "name": "stdin",
     "output_type": "stream",
     "text": [
      "Enter the string : hot cold\n"
     ]
    },
    {
     "name": "stdout",
     "output_type": "stream",
     "text": [
      "the output after removing spaces  hotcold\n"
     ]
    }
   ],
   "source": [
    "# user input is created\n",
    "s4 = input(\"Enter the string :\")\n",
    "\n",
    "#removinf the space\n",
    "rem_space = s4.replace(\" \",\"\")\n",
    "\n",
    "#output after removing the sapce\n",
    "\n",
    "print(\"the output after removing spaces \",rem_space)\n"
   ]
  },
  {
   "cell_type": "code",
   "execution_count": null,
   "id": "2001645d-d31d-46bd-a818-1591a09545be",
   "metadata": {},
   "outputs": [],
   "source": []
  }
 ],
 "metadata": {
  "kernelspec": {
   "display_name": "Python 3 (ipykernel)",
   "language": "python",
   "name": "python3"
  },
  "language_info": {
   "codemirror_mode": {
    "name": "ipython",
    "version": 3
   },
   "file_extension": ".py",
   "mimetype": "text/x-python",
   "name": "python",
   "nbconvert_exporter": "python",
   "pygments_lexer": "ipython3",
   "version": "3.10.8"
  }
 },
 "nbformat": 4,
 "nbformat_minor": 5
}
